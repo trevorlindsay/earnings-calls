{
 "cells": [
  {
   "cell_type": "code",
   "execution_count": 1,
   "metadata": {
    "collapsed": false
   },
   "outputs": [],
   "source": [
    "import numpy as np\n",
    "from collections import defaultdict, namedtuple\n",
    "from text_generator import TextGenerator\n",
    "import gzip\n",
    "import cPickle as pickle\n",
    "from sklearn.cross_validation import StratifiedShuffleSplit\n",
    "from sklearn.ensemble import RandomForestClassifier\n",
    "from sklearn.linear_model import LogisticRegression\n",
    "from sklearn.metrics import confusion_matrix, accuracy_score\n",
    "import seaborn as sb\n",
    "% matplotlib inline\n",
    "import matplotlib.pyplot as plt\n",
    "import operator"
   ]
  },
  {
   "cell_type": "code",
   "execution_count": 2,
   "metadata": {
    "collapsed": false
   },
   "outputs": [],
   "source": [
    "sb.set_context('poster', rc={'figure.figsize':(12, 12)})"
   ]
  },
  {
   "cell_type": "code",
   "execution_count": 57,
   "metadata": {
    "collapsed": false
   },
   "outputs": [],
   "source": [
    "class BiGramModel(object):\n",
    "\n",
    "\n",
    "    def __init__(self, transcripts, target_period=3, max_vocab_size=None, min_count=50, verbose=True):\n",
    "\n",
    "        # Initiate some necessary variables\n",
    "        self._transcripts = transcripts\n",
    "        self._vocab = defaultdict(dict)\n",
    "        self._features = list()\n",
    "        self._targets = list()\n",
    "        self.max_vocab_size = max_vocab_size\n",
    "        self.min_count = min_count\n",
    "        self.stop_words = \"a an the for which our by as we that on in with or is are also and of to you these \" \\\n",
    "                          \"from at last where will i now how have be per during about these this - was year \" \\\n",
    "                          \"were call it has us than so not like very but million quarter over new first \" \\\n",
    "                          \"third their would those there . ? ! , & % $ [ ] ( ) ; and/or your 's 're 'd 've\".split()\n",
    "\n",
    "        # Set the target period\n",
    "        assert target_period in (3, 30, 60, 90), 'Invalid target period: {} days'.format(target_period)\n",
    "        self.target_period = target_period\n",
    "\n",
    "        # Build the vocabulary\n",
    "        self.build_vocab(verbose)\n",
    "        self.finalize_vocab()\n",
    "        self.TFIDF()\n",
    "\n",
    "\n",
    "    def build_vocab(self, verbose):\n",
    "\n",
    "        for key, transcript in self._transcripts.iteritems():\n",
    "\n",
    "            abnormal_return = self.get_return(transcript)\n",
    "\n",
    "            if abnormal_return < -0.05:\n",
    "                self._targets.append(0)\n",
    "            elif -0.05 <= abnormal_return < 0.05:\n",
    "                self._targets.append(1)\n",
    "            elif abnormal_return >= 0.05:\n",
    "                self._targets.append(2)\n",
    "            else:\n",
    "                continue\n",
    "\n",
    "            # Tracks how often words appear in the transcript\n",
    "            tracker = defaultdict(int)\n",
    "\n",
    "            for paragraph in TextGenerator(transcript):\n",
    "\n",
    "                # Remembers last word for bigrams\n",
    "                last_word = None\n",
    "\n",
    "                for word in paragraph:\n",
    "\n",
    "                    # Ignore stop words\n",
    "                    if word in self.stop_words:\n",
    "                        continue\n",
    "\n",
    "                    # Ignore numbers\n",
    "                    try:\n",
    "                        float(word)\n",
    "                        continue\n",
    "                    except ValueError:\n",
    "                        if last_word:\n",
    "                            tracker[' '.join([last_word, word])] += 1\n",
    "                        tracker[word] += 1\n",
    "                        last_word = word\n",
    "\n",
    "            for word in tracker:\n",
    "                self._vocab[word][key] = tracker[word]\n",
    "\n",
    "            if verbose:\n",
    "                if key % 250 == 0:\n",
    "                    print(\"PROGRESS: at transcript #{}, keeping {} word types\".format(key, len(self._vocab)))\n",
    "\n",
    "                if key % 1000 == 0:\n",
    "                    self.trim_vocab(min_reduce=2)\n",
    "\n",
    "\n",
    "    def TFIDF(self):\n",
    "\n",
    "        print(\"Computing TF-IDF...\")\n",
    "        # Compute inverse document frequency\n",
    "        N = len(self._transcripts)\n",
    "        idf = defaultdict(float)\n",
    "        for word in self._vocab:\n",
    "            freq = len(self._vocab[word])\n",
    "            idf[word] = np.log(float(N) / freq)\n",
    "\n",
    "        # Reaugment dictionary so transcripts are first-order keys and words are second-order keys\n",
    "        # Also set self._vocab to now just be the actual vocabulary\n",
    "        vocab = self._vocab.keys()\n",
    "        self._features = {doc: {word: self._vocab[word][doc] for word in self._vocab if doc in self._vocab[word]}\n",
    "                          for doc in self._transcripts}\n",
    "        self._vocab = vocab\n",
    "\n",
    "        for doc in self._features:\n",
    "            max_freq = float(max(self._features[doc].values()))\n",
    "            self._features[doc] = {word: ((count / max_freq) * 0.5 + 0.5) * idf[word] for word, count in\n",
    "                                 self._features[doc].iteritems()}\n",
    "\n",
    "\n",
    "    def trim_vocab(self, min_reduce):\n",
    "\n",
    "        \"\"\" Trims all words that appear less than min_reduce times \"\"\"\n",
    "\n",
    "        start = len(self._vocab)\n",
    "        for word in self._vocab.keys():\n",
    "            if sum(self._vocab[word].values()) < min_reduce:\n",
    "                del self._vocab[word]\n",
    "        print(\"trimmed {} word types, {} word types remaining\".format(start - len(self._vocab), len(self._vocab)))\n",
    "\n",
    "\n",
    "    def finalize_vocab(self):\n",
    "\n",
    "        while self.max_vocab_size and len(self._vocab) > self.max_vocab_size:\n",
    "            self.trim_vocab(min_reduce=self.min_count)\n",
    "            self.min_count += np.sqrt(np.sqrt(len(self.vocab)))\n",
    "\n",
    "        print(\"collected {} word types\".format(len(self._vocab)))\n",
    "\n",
    "\n",
    "    def get_return(self, transcript):\n",
    "\n",
    "        if self.target_period == 3:\n",
    "            return transcript.return_3days\n",
    "        elif self.target_period == 30:\n",
    "            return transcript.return_30days\n",
    "        elif self.target_period == 60:\n",
    "            return transcript.return_60days\n",
    "        else:\n",
    "            return transcript.return_90days\n",
    "\n",
    "\n",
    "    @property\n",
    "    def transcripts(self):\n",
    "        return self._transcripts\n",
    "\n",
    "    @property\n",
    "    def vocab(self):\n",
    "        return self._vocab\n",
    "\n",
    "    @property\n",
    "    def inputs(self):\n",
    "        return self._features\n",
    "\n",
    "    @property\n",
    "    def targets(self):\n",
    "        return self._targets"
   ]
  },
  {
   "cell_type": "code",
   "execution_count": 4,
   "metadata": {
    "collapsed": true
   },
   "outputs": [],
   "source": [
    "Transcript = namedtuple('Transcript', ['company',       \n",
    "                                       'ticker',        \n",
    "                                       'date',          \n",
    "                                       'return_3days',  \n",
    "                                       'return_30days', \n",
    "                                       'return_60days', \n",
    "                                       'return_90days', \n",
    "                                       'prepared',      \n",
    "                                       'QandA'])"
   ]
  },
  {
   "cell_type": "code",
   "execution_count": 5,
   "metadata": {
    "collapsed": true
   },
   "outputs": [],
   "source": [
    "def load_transcripts():                                            \n",
    "    with gzip.open('../data/transcripts.p.gz') as f:         \n",
    "        return pickle.load(f)                                      "
   ]
  },
  {
   "cell_type": "code",
   "execution_count": 10,
   "metadata": {
    "collapsed": true
   },
   "outputs": [],
   "source": [
    "def init_model(transcripts):                                                                \n",
    "    return SkipGramModel(transcripts, target_period=3, max_vocab_size=None, min_count=50)"
   ]
  },
  {
   "cell_type": "code",
   "execution_count": 7,
   "metadata": {
    "collapsed": true
   },
   "outputs": [],
   "source": [
    "transcripts = load_transcripts()"
   ]
  },
  {
   "cell_type": "code",
   "execution_count": 13,
   "metadata": {
    "collapsed": false
   },
   "outputs": [
    {
     "name": "stdout",
     "output_type": "stream",
     "text": [
      "PROGRESS: at transcript #250, keeping 274190 word types\n",
      "PROGRESS: at transcript #500, keeping 477620 word types\n",
      "PROGRESS: at transcript #750, keeping 644994 word types\n",
      "PROGRESS: at transcript #1000, keeping 804029 word types\n",
      "trimmed 576414 word types, 227615 word types remaining\n",
      "PROGRESS: at transcript #1250, keeping 410529 word types\n",
      "PROGRESS: at transcript #1500, keeping 575474 word types\n",
      "PROGRESS: at transcript #1750, keeping 734401 word types\n",
      "PROGRESS: at transcript #2000, keeping 885158 word types\n",
      "trimmed 541545 word types, 343613 word types remaining\n",
      "PROGRESS: at transcript #2250, keeping 509946 word types\n",
      "PROGRESS: at transcript #2500, keeping 666781 word types\n",
      "PROGRESS: at transcript #2750, keeping 823514 word types\n",
      "PROGRESS: at transcript #3000, keeping 960085 word types\n",
      "trimmed 523886 word types, 436199 word types remaining\n",
      "PROGRESS: at transcript #3250, keeping 592451 word types\n",
      "PROGRESS: at transcript #3500, keeping 733000 word types\n",
      "PROGRESS: at transcript #3750, keeping 872348 word types\n",
      "PROGRESS: at transcript #4000, keeping 1001307 word types\n",
      "trimmed 490613 word types, 510694 word types remaining\n",
      "PROGRESS: at transcript #4250, keeping 652557 word types\n",
      "PROGRESS: at transcript #4500, keeping 780521 word types\n",
      "PROGRESS: at transcript #4750, keeping 904129 word types\n",
      "PROGRESS: at transcript #5000, keeping 1029329 word types\n",
      "trimmed 460505 word types, 568824 word types remaining\n",
      "PROGRESS: at transcript #5250, keeping 722729 word types\n",
      "PROGRESS: at transcript #5500, keeping 854336 word types\n",
      "PROGRESS: at transcript #5750, keeping 984703 word types\n",
      "PROGRESS: at transcript #6000, keeping 1100907 word types\n",
      "trimmed 477373 word types, 623534 word types remaining\n",
      "PROGRESS: at transcript #6250, keeping 750837 word types\n",
      "PROGRESS: at transcript #6500, keeping 879393 word types\n",
      "PROGRESS: at transcript #6750, keeping 1006581 word types\n",
      "PROGRESS: at transcript #7000, keeping 1129021 word types\n",
      "trimmed 454124 word types, 674897 word types remaining\n",
      "PROGRESS: at transcript #7250, keeping 801313 word types\n",
      "PROGRESS: at transcript #7500, keeping 931167 word types\n",
      "PROGRESS: at transcript #7750, keeping 1047187 word types\n",
      "PROGRESS: at transcript #8000, keeping 1156873 word types\n",
      "trimmed 438580 word types, 718293 word types remaining\n",
      "PROGRESS: at transcript #8250, keeping 837081 word types\n",
      "PROGRESS: at transcript #8500, keeping 956292 word types\n",
      "PROGRESS: at transcript #8750, keeping 1086987 word types\n",
      "PROGRESS: at transcript #9000, keeping 1201249 word types\n",
      "trimmed 440575 word types, 760674 word types remaining\n",
      "PROGRESS: at transcript #9250, keeping 892440 word types\n",
      "PROGRESS: at transcript #9500, keeping 1009828 word types\n",
      "PROGRESS: at transcript #9750, keeping 1122098 word types\n",
      "PROGRESS: at transcript #10000, keeping 1232742 word types\n",
      "trimmed 435579 word types, 797163 word types remaining\n",
      "PROGRESS: at transcript #10250, keeping 918862 word types\n",
      "PROGRESS: at transcript #10500, keeping 1031832 word types\n",
      "PROGRESS: at transcript #10750, keeping 1136668 word types\n",
      "PROGRESS: at transcript #11000, keeping 1244944 word types\n",
      "trimmed 412643 word types, 832301 word types remaining\n",
      "PROGRESS: at transcript #11250, keeping 943373 word types\n",
      "PROGRESS: at transcript #11500, keeping 1057513 word types\n",
      "PROGRESS: at transcript #11750, keeping 1159529 word types\n",
      "PROGRESS: at transcript #12000, keeping 1268018 word types\n",
      "trimmed 402685 word types, 865333 word types remaining\n",
      "PROGRESS: at transcript #12250, keeping 992797 word types\n",
      "PROGRESS: at transcript #12500, keeping 1121925 word types\n",
      "PROGRESS: at transcript #12750, keeping 1236350 word types\n",
      "PROGRESS: at transcript #13000, keeping 1355159 word types\n",
      "trimmed 451771 word types, 903388 word types remaining\n",
      "PROGRESS: at transcript #13250, keeping 1029591 word types\n",
      "PROGRESS: at transcript #13500, keeping 1155865 word types\n",
      "PROGRESS: at transcript #13750, keeping 1278283 word types\n",
      "PROGRESS: at transcript #14000, keeping 1397057 word types\n",
      "trimmed 449629 word types, 947428 word types remaining\n",
      "PROGRESS: at transcript #14250, keeping 1072745 word types\n",
      "PROGRESS: at transcript #14500, keeping 1189594 word types\n",
      "PROGRESS: at transcript #14750, keeping 1298367 word types\n",
      "PROGRESS: at transcript #15000, keeping 1405207 word types\n",
      "trimmed 423257 word types, 981950 word types remaining\n",
      "PROGRESS: at transcript #15250, keeping 1096771 word types\n",
      "PROGRESS: at transcript #15500, keeping 1203421 word types\n",
      "PROGRESS: at transcript #15750, keeping 1326526 word types\n",
      "PROGRESS: at transcript #16000, keeping 1441867 word types\n",
      "trimmed 425907 word types, 1015960 word types remaining\n",
      "PROGRESS: at transcript #16250, keeping 1140279 word types\n",
      "PROGRESS: at transcript #16500, keeping 1254986 word types\n",
      "PROGRESS: at transcript #16750, keeping 1360459 word types\n",
      "PROGRESS: at transcript #17000, keeping 1471960 word types\n",
      "trimmed 422988 word types, 1048972 word types remaining\n",
      "PROGRESS: at transcript #17250, keeping 1156621 word types\n",
      "PROGRESS: at transcript #17500, keeping 1262111 word types\n",
      "PROGRESS: at transcript #17750, keeping 1362236 word types\n",
      "PROGRESS: at transcript #18000, keeping 1461383 word types\n",
      "trimmed 383675 word types, 1077708 word types remaining\n",
      "PROGRESS: at transcript #18250, keeping 1176903 word types\n",
      "PROGRESS: at transcript #18500, keeping 1289507 word types\n",
      "PROGRESS: at transcript #18750, keeping 1434731 word types\n",
      "PROGRESS: at transcript #19000, keeping 1544350 word types\n",
      "trimmed 435125 word types, 1109225 word types remaining\n",
      "PROGRESS: at transcript #19250, keeping 1223534 word types\n",
      "PROGRESS: at transcript #19500, keeping 1331138 word types\n",
      "PROGRESS: at transcript #19750, keeping 1457164 word types\n",
      "PROGRESS: at transcript #20000, keeping 1574781 word types\n",
      "trimmed 432315 word types, 1142466 word types remaining\n",
      "PROGRESS: at transcript #20250, keeping 1262086 word types\n",
      "PROGRESS: at transcript #20500, keeping 1373632 word types\n",
      "PROGRESS: at transcript #20750, keeping 1477379 word types\n",
      "PROGRESS: at transcript #21000, keeping 1574903 word types\n",
      "trimmed 403666 word types, 1171237 word types remaining\n",
      "PROGRESS: at transcript #21250, keeping 1277295 word types\n",
      "PROGRESS: at transcript #21500, keeping 1378109 word types\n",
      "PROGRESS: at transcript #21750, keeping 1477760 word types\n",
      "PROGRESS: at transcript #22000, keeping 1580250 word types\n",
      "trimmed 382746 word types, 1197504 word types remaining\n",
      "PROGRESS: at transcript #22250, keeping 1316983 word types\n",
      "PROGRESS: at transcript #22500, keeping 1436123 word types\n",
      "PROGRESS: at transcript #22750, keeping 1549282 word types\n",
      "PROGRESS: at transcript #23000, keeping 1659377 word types\n",
      "trimmed 430685 word types, 1228692 word types remaining\n",
      "PROGRESS: at transcript #23250, keeping 1348569 word types\n",
      "PROGRESS: at transcript #23500, keeping 1472879 word types\n",
      "PROGRESS: at transcript #23750, keeping 1582636 word types\n",
      "PROGRESS: at transcript #24000, keeping 1691445 word types\n",
      "trimmed 429539 word types, 1261906 word types remaining\n",
      "PROGRESS: at transcript #24250, keeping 1372717 word types\n",
      "PROGRESS: at transcript #24500, keeping 1481939 word types\n",
      "PROGRESS: at transcript #24750, keeping 1586094 word types\n",
      "PROGRESS: at transcript #25000, keeping 1735442 word types\n",
      "trimmed 439434 word types, 1296008 word types remaining\n",
      "PROGRESS: at transcript #25250, keeping 1423568 word types\n",
      "PROGRESS: at transcript #25500, keeping 1582868 word types\n",
      "PROGRESS: at transcript #25750, keeping 1736702 word types\n",
      "PROGRESS: at transcript #26000, keeping 1840386 word types\n",
      "trimmed 501107 word types, 1339279 word types remaining\n",
      "PROGRESS: at transcript #26250, keeping 1458295 word types\n",
      "PROGRESS: at transcript #26500, keeping 1573905 word types\n",
      "PROGRESS: at transcript #26750, keeping 1676454 word types\n",
      "PROGRESS: at transcript #27000, keeping 1782845 word types\n",
      "trimmed 413655 word types, 1369190 word types remaining\n",
      "PROGRESS: at transcript #27250, keeping 1474239 word types\n",
      "PROGRESS: at transcript #27500, keeping 1570951 word types\n",
      "PROGRESS: at transcript #27750, keeping 1673439 word types\n",
      "PROGRESS: at transcript #28000, keeping 1766401 word types\n",
      "trimmed 373651 word types, 1392750 word types remaining\n",
      "PROGRESS: at transcript #28250, keeping 1530651 word types\n",
      "PROGRESS: at transcript #28500, keeping 1651338 word types\n",
      "PROGRESS: at transcript #28750, keeping 1766162 word types\n",
      "PROGRESS: at transcript #29000, keeping 1881914 word types\n",
      "trimmed 448195 word types, 1433719 word types remaining\n",
      "PROGRESS: at transcript #29250, keeping 1555065 word types\n",
      "PROGRESS: at transcript #29500, keeping 1662123 word types\n",
      "PROGRESS: at transcript #29750, keeping 1772407 word types\n",
      "PROGRESS: at transcript #30000, keeping 1874085 word types\n",
      "trimmed 403389 word types, 1470696 word types remaining\n",
      "PROGRESS: at transcript #30250, keeping 1578589 word types\n",
      "PROGRESS: at transcript #30500, keeping 1680725 word types\n",
      "PROGRESS: at transcript #30750, keeping 1782770 word types\n",
      "PROGRESS: at transcript #31000, keeping 1890196 word types\n",
      "trimmed 389060 word types, 1501136 word types remaining\n",
      "PROGRESS: at transcript #31250, keeping 1602773 word types\n",
      "PROGRESS: at transcript #31500, keeping 1713687 word types\n",
      "PROGRESS: at transcript #31750, keeping 1813582 word types\n",
      "PROGRESS: at transcript #32000, keeping 1909135 word types\n",
      "trimmed 379447 word types, 1529688 word types remaining\n",
      "PROGRESS: at transcript #32250, keeping 1636815 word types\n",
      "PROGRESS: at transcript #32500, keeping 1750374 word types\n",
      "PROGRESS: at transcript #32750, keeping 1856311 word types\n",
      "PROGRESS: at transcript #33000, keeping 1962633 word types\n",
      "trimmed 403082 word types, 1559551 word types remaining\n",
      "PROGRESS: at transcript #33250, keeping 1675464 word types\n",
      "PROGRESS: at transcript #33500, keeping 1787726 word types\n",
      "PROGRESS: at transcript #33750, keeping 1897900 word types\n",
      "PROGRESS: at transcript #34000, keeping 2011284 word types\n",
      "trimmed 419937 word types, 1591347 word types remaining\n",
      "PROGRESS: at transcript #34250, keeping 1709284 word types\n",
      "PROGRESS: at transcript #34500, keeping 1808886 word types\n",
      "PROGRESS: at transcript #34750, keeping 1913999 word types\n",
      "PROGRESS: at transcript #35000, keeping 2018581 word types\n",
      "trimmed 398474 word types, 1620107 word types remaining\n",
      "PROGRESS: at transcript #35250, keeping 1725513 word types\n",
      "PROGRESS: at transcript #35500, keeping 1830519 word types\n",
      "PROGRESS: at transcript #35750, keeping 1929924 word types\n",
      "PROGRESS: at transcript #36000, keeping 2017017 word types\n",
      "trimmed 371001 word types, 1646016 word types remaining\n",
      "PROGRESS: at transcript #36250, keeping 1752539 word types\n",
      "PROGRESS: at transcript #36500, keeping 1850048 word types\n",
      "PROGRESS: at transcript #36750, keeping 1951832 word types\n",
      "PROGRESS: at transcript #37000, keeping 2046794 word types\n",
      "trimmed 373583 word types, 1673211 word types remaining\n",
      "PROGRESS: at transcript #37250, keeping 1779957 word types\n",
      "PROGRESS: at transcript #37500, keeping 1881622 word types\n",
      "PROGRESS: at transcript #37750, keeping 1989870 word types\n",
      "PROGRESS: at transcript #38000, keeping 2098710 word types\n",
      "trimmed 398087 word types, 1700623 word types remaining\n",
      "PROGRESS: at transcript #38250, keeping 1797148 word types\n",
      "PROGRESS: at transcript #38500, keeping 1890032 word types\n",
      "PROGRESS: at transcript #38750, keeping 1985744 word types\n",
      "PROGRESS: at transcript #39000, keeping 2088661 word types\n",
      "trimmed 363377 word types, 1725284 word types remaining\n",
      "PROGRESS: at transcript #39250, keeping 1823299 word types\n",
      "PROGRESS: at transcript #39500, keeping 1919235 word types\n",
      "PROGRESS: at transcript #39750, keeping 2007225 word types\n",
      "PROGRESS: at transcript #40000, keeping 2099678 word types\n",
      "trimmed 350314 word types, 1749364 word types remaining\n",
      "PROGRESS: at transcript #40250, keeping 1841942 word types\n",
      "PROGRESS: at transcript #40500, keeping 1940729 word types\n",
      "PROGRESS: at transcript #40750, keeping 2038187 word types\n",
      "PROGRESS: at transcript #41000, keeping 2139472 word types\n",
      "trimmed 366292 word types, 1773180 word types remaining\n",
      "PROGRESS: at transcript #41250, keeping 1886727 word types\n",
      "PROGRESS: at transcript #41500, keeping 1986072 word types\n",
      "PROGRESS: at transcript #41750, keeping 2086939 word types\n",
      "PROGRESS: at transcript #42000, keeping 2171967 word types\n",
      "trimmed 371859 word types, 1800108 word types remaining\n",
      "PROGRESS: at transcript #42250, keeping 1901786 word types\n",
      "PROGRESS: at transcript #42500, keeping 1999753 word types\n",
      "PROGRESS: at transcript #42750, keeping 2092196 word types\n",
      "PROGRESS: at transcript #43000, keeping 2188788 word types\n",
      "trimmed 364032 word types, 1824756 word types remaining\n",
      "PROGRESS: at transcript #43250, keeping 1927277 word types\n",
      "PROGRESS: at transcript #43500, keeping 2033730 word types\n",
      "PROGRESS: at transcript #43750, keeping 2123265 word types\n",
      "PROGRESS: at transcript #44000, keeping 2235868 word types\n",
      "trimmed 388258 word types, 1847610 word types remaining\n",
      "PROGRESS: at transcript #44250, keeping 1937855 word types\n",
      "PROGRESS: at transcript #44500, keeping 2061039 word types\n",
      "PROGRESS: at transcript #44750, keeping 2162086 word types\n",
      "PROGRESS: at transcript #45000, keeping 2293394 word types\n",
      "trimmed 418573 word types, 1874821 word types remaining\n",
      "PROGRESS: at transcript #45250, keeping 1974651 word types\n",
      "PROGRESS: at transcript #45500, keeping 2082658 word types\n",
      "PROGRESS: at transcript #45750, keeping 2203937 word types\n",
      "PROGRESS: at transcript #46000, keeping 2318124 word types\n",
      "trimmed 418736 word types, 1899388 word types remaining\n",
      "PROGRESS: at transcript #46250, keeping 1990346 word types\n",
      "PROGRESS: at transcript #46500, keeping 2102363 word types\n",
      "PROGRESS: at transcript #46750, keeping 2193514 word types\n",
      "PROGRESS: at transcript #47000, keeping 2313815 word types\n",
      "trimmed 390291 word types, 1923524 word types remaining\n",
      "PROGRESS: at transcript #47250, keeping 2032884 word types\n",
      "PROGRESS: at transcript #47500, keeping 2185892 word types\n",
      "PROGRESS: at transcript #47750, keeping 2279712 word types\n",
      "PROGRESS: at transcript #48000, keeping 2363509 word types\n",
      "trimmed 414357 word types, 1949152 word types remaining\n",
      "PROGRESS: at transcript #48250, keeping 2042396 word types\n",
      "PROGRESS: at transcript #48500, keeping 2140452 word types\n",
      "PROGRESS: at transcript #48750, keeping 2241269 word types\n",
      "PROGRESS: at transcript #49000, keeping 2335815 word types\n",
      "trimmed 366002 word types, 1969813 word types remaining\n",
      "PROGRESS: at transcript #49250, keeping 2078862 word types\n",
      "PROGRESS: at transcript #49500, keeping 2210323 word types\n",
      "PROGRESS: at transcript #49750, keeping 2301428 word types\n",
      "PROGRESS: at transcript #50000, keeping 2391062 word types\n",
      "trimmed 398500 word types, 1992562 word types remaining\n",
      "PROGRESS: at transcript #50250, keeping 2083976 word types\n",
      "PROGRESS: at transcript #50500, keeping 2177148 word types\n",
      "PROGRESS: at transcript #50750, keeping 2296741 word types\n",
      "PROGRESS: at transcript #51000, keeping 2403169 word types\n",
      "trimmed 389670 word types, 2013499 word types remaining\n",
      "PROGRESS: at transcript #51250, keeping 2132147 word types\n",
      "nan\n",
      "PROGRESS: at transcript #51500, keeping 2223966 word types\n",
      "PROGRESS: at transcript #51750, keeping 2332710 word types\n",
      "PROGRESS: at transcript #52000, keeping 2423243 word types\n",
      "trimmed 388244 word types, 2034999 word types remaining\n",
      "PROGRESS: at transcript #52250, keeping 2137012 word types\n",
      "PROGRESS: at transcript #52500, keeping 2231751 word types\n",
      "PROGRESS: at transcript #52750, keeping 2335527 word types\n",
      "PROGRESS: at transcript #53000, keeping 2435314 word types\n",
      "trimmed 379807 word types, 2055507 word types remaining\n",
      "PROGRESS: at transcript #53250, keeping 2158213 word types\n",
      "PROGRESS: at transcript #53500, keeping 2265670 word types\n",
      "PROGRESS: at transcript #53750, keeping 2379442 word types\n",
      "PROGRESS: at transcript #54000, keeping 2504934 word types\n",
      "trimmed 423499 word types, 2081435 word types remaining\n",
      "PROGRESS: at transcript #54250, keeping 2201065 word types\n",
      "PROGRESS: at transcript #54500, keeping 2301046 word types\n",
      "PROGRESS: at transcript #54750, keeping 2383706 word types\n",
      "PROGRESS: at transcript #55000, keeping 2464997 word types\n",
      "trimmed 363226 word types, 2101771 word types remaining\n",
      "PROGRESS: at transcript #55250, keeping 2186593 word types\n",
      "PROGRESS: at transcript #55500, keeping 2266467 word types\n",
      "PROGRESS: at transcript #55750, keeping 2350703 word types\n",
      "PROGRESS: at transcript #56000, keeping 2431033 word types\n",
      "trimmed 315149 word types, 2115884 word types remaining\n",
      "PROGRESS: at transcript #56250, keeping 2207959 word types\n",
      "PROGRESS: at transcript #56500, keeping 2305295 word types\n",
      "PROGRESS: at transcript #56750, keeping 2413686 word types\n",
      "PROGRESS: at transcript #57000, keeping 2521964 word types\n",
      "trimmed 383772 word types, 2138192 word types remaining\n",
      "trimmed 40497 word types, 220189 word types remaining\n",
      "trimmed 30303 word types, 189886 word types remaining\n",
      "trimmed 23249 word types, 166637 word types remaining\n",
      "trimmed 18465 word types, 148172 word types remaining\n",
      "trimmed 14604 word types, 133568 word types remaining\n",
      "trimmed 12166 word types, 121402 word types remaining\n",
      "trimmed 10148 word types, 111254 word types remaining\n",
      "trimmed 8491 word types, 102763 word types remaining\n",
      "trimmed 7550 word types, 95213 word types remaining\n",
      "trimmed 6379 word types, 88834 word types remaining\n",
      "trimmed 5735 word types, 83099 word types remaining\n",
      "trimmed 4880 word types, 78219 word types remaining\n",
      "trimmed 4263 word types, 73956 word types remaining\n",
      "trimmed 3909 word types, 70047 word types remaining\n",
      "trimmed 3553 word types, 66494 word types remaining\n",
      "trimmed 3295 word types, 63199 word types remaining\n",
      "trimmed 2949 word types, 60250 word types remaining\n",
      "trimmed 2685 word types, 57565 word types remaining\n",
      "trimmed 2499 word types, 55066 word types remaining\n",
      "trimmed 2234 word types, 52832 word types remaining\n",
      "trimmed 2015 word types, 50817 word types remaining\n",
      "trimmed 1945 word types, 48872 word types remaining\n",
      "trimmed 1771 word types, 47101 word types remaining\n",
      "trimmed 1648 word types, 45453 word types remaining\n",
      "trimmed 1482 word types, 43971 word types remaining\n",
      "trimmed 1452 word types, 42519 word types remaining\n",
      "trimmed 1349 word types, 41170 word types remaining\n",
      "trimmed 1237 word types, 39933 word types remaining\n",
      "trimmed 1198 word types, 38735 word types remaining\n",
      "trimmed 1101 word types, 37634 word types remaining\n",
      "trimmed 1085 word types, 36549 word types remaining\n",
      "trimmed 957 word types, 35592 word types remaining\n",
      "trimmed 906 word types, 34686 word types remaining\n",
      "trimmed 929 word types, 33757 word types remaining\n",
      "trimmed 881 word types, 32876 word types remaining\n",
      "trimmed 742 word types, 32134 word types remaining\n",
      "trimmed 742 word types, 31392 word types remaining\n",
      "trimmed 683 word types, 30709 word types remaining\n",
      "trimmed 677 word types, 30032 word types remaining\n",
      "trimmed 683 word types, 29349 word types remaining\n",
      "trimmed 679 word types, 28670 word types remaining\n",
      "trimmed 648 word types, 28022 word types remaining\n",
      "trimmed 570 word types, 27452 word types remaining\n",
      "trimmed 515 word types, 26937 word types remaining\n",
      "trimmed 534 word types, 26403 word types remaining\n",
      "trimmed 554 word types, 25849 word types remaining\n",
      "trimmed 505 word types, 25344 word types remaining\n",
      "trimmed 460 word types, 24884 word types remaining\n",
      "collected 24884 word types\n"
     ]
    }
   ],
   "source": [
    "m = init_model(transcripts)"
   ]
  },
  {
   "cell_type": "code",
   "execution_count": 14,
   "metadata": {
    "collapsed": false
   },
   "outputs": [],
   "source": [
    "x = np.asarray([np.asarray([doc[word] if word in doc else 0 for word in m.vocab]) for doc in m.inputs.values()])\n",
    "y = np.asarray(m.targets)"
   ]
  },
  {
   "cell_type": "code",
   "execution_count": 16,
   "metadata": {
    "collapsed": false
   },
   "outputs": [
    {
     "name": "stdout",
     "output_type": "stream",
     "text": [
      "57015 57015\n"
     ]
    }
   ],
   "source": [
    "print len(x), len(y)"
   ]
  },
  {
   "cell_type": "code",
   "execution_count": 33,
   "metadata": {
    "collapsed": false
   },
   "outputs": [],
   "source": [
    "while np.argmax(y) not in (0, 1, 2, 3, 4):\n",
    "    y = np.delete(y, np.argmax(y), axis=0)\n",
    "    x = np.delete(x, np.argmax(y), axis=0)"
   ]
  },
  {
   "cell_type": "code",
   "execution_count": 34,
   "metadata": {
    "collapsed": false
   },
   "outputs": [],
   "source": [
    "sss = StratifiedShuffleSplit(y, n_iter=1, test_size=0.25, random_state=0)\n",
    "for train_index, test_index in sss:\n",
    "    x_train, x_test = x[train_index], x[test_index]\n",
    "    y_train, y_test = y[train_index], y[test_index]"
   ]
  },
  {
   "cell_type": "code",
   "execution_count": 35,
   "metadata": {
    "collapsed": true
   },
   "outputs": [],
   "source": [
    "rf_clf = RandomForestClassifier(100)"
   ]
  },
  {
   "cell_type": "code",
   "execution_count": 36,
   "metadata": {
    "collapsed": false
   },
   "outputs": [],
   "source": [
    "rf_clf.fit(x_train, y_train)\n",
    "y_pred = rf_clf.predict(x_test)"
   ]
  },
  {
   "cell_type": "code",
   "execution_count": 37,
   "metadata": {
    "collapsed": false
   },
   "outputs": [
    {
     "data": {
      "text/plain": [
       "array([[ 132,    7, 2494,    7,   80],\n",
       "       [  55,    3, 1690,    4,   45],\n",
       "       [ 182,   14, 5018,   10,  106],\n",
       "       [  52,    8, 1670,    4,   36],\n",
       "       [ 105,    7, 2437,    7,   81]])"
      ]
     },
     "execution_count": 37,
     "metadata": {},
     "output_type": "execute_result"
    }
   ],
   "source": [
    "confusion_matrix(y_test, y_pred)"
   ]
  },
  {
   "cell_type": "code",
   "execution_count": 38,
   "metadata": {
    "collapsed": false
   },
   "outputs": [
    {
     "data": {
      "text/plain": [
       "0.36747579626771432"
      ]
     },
     "execution_count": 38,
     "metadata": {},
     "output_type": "execute_result"
    }
   ],
   "source": [
    "accuracy_score(y_test, y_pred)"
   ]
  },
  {
   "cell_type": "code",
   "execution_count": 41,
   "metadata": {
    "collapsed": true
   },
   "outputs": [],
   "source": [
    "importances = zip(m.vocab, np.absolute(rf_clf.feature_importances_))\n",
    "importances = sorted(importances, key=operator.itemgetter(1), reverse=True)"
   ]
  },
  {
   "cell_type": "code",
   "execution_count": 42,
   "metadata": {
    "collapsed": false
   },
   "outputs": [
    {
     "data": {
      "image/png": "[encoded data removed]",
      "text/plain": [
       "<matplotlib.figure.Figure at 0x2586c2850>"
      ]
     },
     "metadata": {},
     "output_type": "display_data"
    }
   ],
   "source": [
    "sb.barplot(y=zip(*importances)[0][:25], x=zip(*importances)[1][:25], color='g', orient='h');"
   ]
  },
  {
   "cell_type": "code",
   "execution_count": 58,
   "metadata": {
    "collapsed": true
   },
   "outputs": [],
   "source": [
    "lr_clf = LogisticRegression()"
   ]
  },
  {
   "cell_type": "code",
   "execution_count": 52,
   "metadata": {
    "collapsed": false
   },
   "outputs": [
    {
     "name": "stderr",
     "output_type": "stream",
     "text": [
      "/Users/trevorlindsay/anaconda/lib/python2.7/site-packages/sklearn/utils/class_weight.py:62: DeprecationWarning: The class_weight='auto' heuristic is deprecated in 0.17 in favor of a new heuristic class_weight='balanced'. 'auto' will be removed in 0.19\n",
      "  \" 0.19\", DeprecationWarning)\n"
     ]
    }
   ],
   "source": [
    "lr_clf.fit(x_train, y_train)\n",
    "y_pred = lr_clf.predict(x_test)"
   ]
  },
  {
   "cell_type": "code",
   "execution_count": 53,
   "metadata": {
    "collapsed": false
   },
   "outputs": [
    {
     "data": {
      "text/plain": [
       "array([[ 576,  339,  934,  311,  560],\n",
       "       [ 362,  235,  612,  240,  348],\n",
       "       [1015,  707, 1980,  645,  983],\n",
       "       [ 315,  229,  653,  246,  327],\n",
       "       [ 531,  337,  911,  317,  541]])"
      ]
     },
     "execution_count": 53,
     "metadata": {},
     "output_type": "execute_result"
    }
   ],
   "source": [
    "confusion_matrix(y_test, y_pred)"
   ]
  },
  {
   "cell_type": "code",
   "execution_count": 54,
   "metadata": {
    "collapsed": false
   },
   "outputs": [
    {
     "data": {
      "text/plain": [
       "0.25101725831345589"
      ]
     },
     "execution_count": 54,
     "metadata": {},
     "output_type": "execute_result"
    }
   ],
   "source": [
    "accuracy_score(y_test, y_pred)"
   ]
  },
  {
   "cell_type": "code",
   "execution_count": 55,
   "metadata": {
    "collapsed": false
   },
   "outputs": [],
   "source": [
    "importances = zip(m.vocab, np.sum(np.absolute(lr_clf.coef_), axis=0))\n",
    "importances = sorted(importances, key=operator.itemgetter(1), reverse=True)"
   ]
  },
  {
   "cell_type": "code",
   "execution_count": 56,
   "metadata": {
    "collapsed": false
   },
   "outputs": [
    {
     "data": {
      "image/png": "[encoded data removed]",
      "text/plain": [
       "<matplotlib.figure.Figure at 0x2d5baa990>"
      ]
     },
     "metadata": {},
     "output_type": "display_data"
    }
   ],
   "source": [
    "sb.barplot(y=zip(*importances)[0][:25], x=zip(*importances)[1][:25], color='g', orient='h');"
   ]
  }
 ],
 "metadata": {
  "kernelspec": {
   "display_name": "Python 2",
   "language": "python",
   "name": "python2"
  },
  "language_info": {
   "codemirror_mode": {
    "name": "ipython",
    "version": 2
   },
   "file_extension": ".py",
   "mimetype": "text/x-python",
   "name": "python",
   "nbconvert_exporter": "python",
   "pygments_lexer": "ipython2",
   "version": "2.7.11"
  }
 },
 "nbformat": 4,
 "nbformat_minor": 0
}
